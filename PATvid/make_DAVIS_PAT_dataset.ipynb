{
 "cells": [
  {
   "cell_type": "code",
   "execution_count": null,
   "metadata": {},
   "outputs": [],
   "source": [
    "import os\n",
    "import json\n",
    "\n",
    "import numpy as np\n",
    "import matplotlib.pyplot as plt\n",
    "import cv2 as cv\n",
    "from skimage.io import imread, imsave\n",
    "from skimage.util import img_as_float, img_as_ubyte\n",
    "from tqdm.notebook import tqdm, trange\n",
    "\n",
    "from mh_utils import ImgBareSet"
   ]
  },
  {
   "cell_type": "code",
   "execution_count": null,
   "metadata": {},
   "outputs": [],
   "source": [
    "def _downscale_to_256p(img):\n",
    "    \"\"\"\n",
    "    What we know: \n",
    "        All images are RGB\n",
    "        All images are landscape oriented\n",
    "        All images are larger than 256p\n",
    "    \"\"\"\n",
    "    h, w = img.shape[:2]\n",
    "    wp = np.round(256/h*w).astype(int)\n",
    "    img2 = cv.resize(img, (wp,256), interpolation=cv.INTER_AREA)\n",
    "    return img2\n",
    "\n",
    "def _crop_to_128patch(img):\n",
    "    \"\"\"\n",
    "    What we know:\n",
    "        All images are RGB\n",
    "        All images are landscape oriented\n",
    "        All images are 256p\n",
    "    \"\"\"\n",
    "    h, w = img.shape[:2]\n",
    "    assert h==256\n",
    "    m = 2\n",
    "    n = w//128\n",
    "    x0 = (w-n*128)//2\n",
    "    img2 = img[:,x0:x0+n*128]\n",
    "    patch_list = img2.reshape(m, 128, n, 128, 3).transpose(0,2,1,3,4).reshape(m*n, 128, 128, 3)\n",
    "    return patch_list\n",
    "\n",
    "def _make_dataset(src_folder, tgt_folder, subfolder_list):\n",
    "    \"\"\"\n",
    "    Make train/valid dataset for PATvidx4\n",
    "    \"\"\"\n",
    "    if not os.path.exists(tgt_folder):\n",
    "        os.mkdir(tgt_folder)\n",
    "    \n",
    "    seq_idx = 0\n",
    "    source_track = {}\n",
    "    for subf in tqdm(subfolder_list):\n",
    "        # load sequence\n",
    "        subpath = os.path.join(src_folder, subf)\n",
    "        ibs = ImgBareSet(subpath, \"{:05d}.jpg\", as_float=True)\n",
    "        # split patches\n",
    "        patch_list_seq = []\n",
    "        for a in trange(len(ibs), desc='process frame', leave=False):\n",
    "            img = ibs[a].astype(np.float32)\n",
    "            img_s = _downscale_to_256p(img)\n",
    "            patch_list = _crop_to_128patch(img_s)\n",
    "            patch_list_seq.append(patch_list)\n",
    "        patch_list_seq = np.stack(patch_list_seq, axis=0) #(seq_len, patch_len, 128, 128, 3)\n",
    "        # save patch sequences\n",
    "        patch_seq_list = patch_list_seq.transpose(1, 0, 2, 3, 4) #(patch_len, seq_len, 128, 128, 3)\n",
    "        patch_seq_list = np.clip(patch_seq_list, 0, 1)\n",
    "        for patch_seq in tqdm(patch_seq_list, desc='save sequence', leave=False):\n",
    "            # prepare folder\n",
    "            patch_seq_path = os.path.join(tgt_folder, \"{:04d}\".format(seq_idx))\n",
    "            os.mkdir(patch_seq_path)\n",
    "            # save source track\n",
    "            source_track[\"{:04d}\".format(seq_idx)] = subf\n",
    "            # save patches\n",
    "            for b in trange(len(ibs), desc='save frame', leave=False):\n",
    "                imsave(os.path.join(patch_seq_path, '{:03d}.png'.format(b)), \n",
    "                       img_as_ubyte(patch_seq[b]), \n",
    "                       check_contrast=False)\n",
    "            # update index\n",
    "            seq_idx += 1\n",
    "    \n",
    "    # save source track file\n",
    "    with open(os.path.join(tgt_folder, 'source_track.json'), 'w') as fp:\n",
    "        json.dump(source_track, fp, indent=4)"
   ]
  },
  {
   "cell_type": "code",
   "execution_count": null,
   "metadata": {},
   "outputs": [],
   "source": [
    "# david dataset folder\n",
    "davis_folder = './DAVIS' #change it to your downloaded DAVIS dataset location\n",
    "\n",
    "# target dataset folder\n",
    "davis_pat_folder = './DAVIS_PAT_trainval_test' #change it to your target dataset location\n",
    "if not os.path.exists(davis_pat_folder):\n",
    "    os.mkdir(davis_pat_folder)"
   ]
  },
  {
   "cell_type": "code",
   "execution_count": null,
   "metadata": {
    "scrolled": true
   },
   "outputs": [],
   "source": [
    "# peek source status\n",
    "src_folder = os.path.join(davis_folder, 'JPEGImages', 'Full-Resolution')\n",
    "\n",
    "with open(os.path.join(davis_folder, 'ImageSets', '2017', 'train.txt'), 'r') as fp:\n",
    "    train_subfolder_list = fp.readlines()\n",
    "train_subfolder_list = [t[:-1] if t.endswith('\\n') else t for t in train_subfolder_list]\n",
    "\n",
    "with open(os.path.join(davis_folder, 'ImageSets', '2017', 'val.txt'), 'r') as fp:\n",
    "    valid_subfolder_list = fp.readlines()\n",
    "valid_subfolder_list = [t[:-1] if t.endswith('\\n') else t for t in valid_subfolder_list]\n",
    "\n",
    "for subf in train_subfolder_list + valid_subfolder_list:\n",
    "    subpath = os.path.join(src_folder, subf)\n",
    "    ibs = ImgBareSet(subpath, \"{:05d}.jpg\", as_float=True)\n",
    "    img = ibs[0]\n",
    "    print(\"{:s} contains {:02d} images, shape {}\".format(subf.ljust(20), len(ibs), img.shape[:2]))"
   ]
  },
  {
   "cell_type": "code",
   "execution_count": null,
   "metadata": {},
   "outputs": [],
   "source": [
    "# change split\n",
    "train_subfolder_list = train_subfolder_list + valid_subfolder_list[:15]\n",
    "valid_subfolder_list = valid_subfolder_list[15:]"
   ]
  },
  {
   "cell_type": "code",
   "execution_count": null,
   "metadata": {},
   "outputs": [],
   "source": [
    "# make validation set\n",
    "_make_dataset(src_folder, \n",
    "              os.path.join(davis_pat_folder, 'valid'), \n",
    "              valid_subfolder_list)"
   ]
  },
  {
   "cell_type": "code",
   "execution_count": null,
   "metadata": {
    "scrolled": true
   },
   "outputs": [],
   "source": [
    "# make training set\n",
    "_make_dataset(src_folder, \n",
    "              os.path.join(davis_pat_folder, 'train'), \n",
    "              train_subfolder_list)"
   ]
  }
 ],
 "metadata": {
  "kernelspec": {
   "display_name": "plvis",
   "language": "python",
   "name": "plvis"
  },
  "language_info": {
   "codemirror_mode": {
    "name": "ipython",
    "version": 3
   },
   "file_extension": ".py",
   "mimetype": "text/x-python",
   "name": "python",
   "nbconvert_exporter": "python",
   "pygments_lexer": "ipython3",
   "version": "3.9.13"
  }
 },
 "nbformat": 4,
 "nbformat_minor": 4
}
